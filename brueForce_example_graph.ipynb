{
 "cells": [
  {
   "cell_type": "code",
   "execution_count": 16,
   "id": "fcc0df5b",
   "metadata": {},
   "outputs": [],
   "source": [
    "import graphviz\n",
    "\n",
    "def draw_state_space_tree():\n",
    "    # Initialize a new graph\n",
    "    graph = graphviz.Graph(engine='dot', graph_attr={'rankdir': 'TB', 'splines': 'true'})\n",
    "\n",
    "    # Add the root node to the graph\n",
    "    graph.node(str([-1, -1, -1, -1, -1, -1]), shape='doublecircle', style='filled', fillcolor='lightblue')\n",
    "\n",
    "    # Generate the state space tree recursively\n",
    "    generate_state_space_tree(graph, [-1, -1, -1, -1, -1, -1])\n",
    "\n",
    "    # Render the graph and save it to a file\n",
    "    graph.render('state_space_tree', format='png', view=True, cleanup=True)\n",
    "\n",
    "def generate_state_space_tree(graph, queens):\n",
    "    if queens.count(-1) == 0:\n",
    "        # If we have placed all 6 queens, add the state to the graph\n",
    "        graph.node(str(queens), shape='doublecircle', style='filled', fillcolor='lightblue')\n",
    "    else:\n",
    "        # Otherwise, add a node for the current state\n",
    "        graph.node(str(queens), shape='circle')\n",
    "\n",
    "        # Generate the children of the current state\n",
    "        row = 6 - queens.count(-1)\n",
    "        for col in range(6):\n",
    "            if is_valid(queens, row, col):\n",
    "                # If the current position is valid, add it to the state and generate its subtree\n",
    "                new_queens = queens[:]\n",
    "                new_queens[row] = col\n",
    "                generate_state_space_tree(graph, new_queens)\n",
    "                # Add an edge from the current state to the new state\n",
    "                graph.edge(str(queens), str(new_queens), color='gray')\n",
    "\n",
    "def is_valid(queens, row, col):\n",
    "    for i in range(row):\n",
    "        # Check if the new queen would be in the same column or same row as an existing queen\n",
    "        if queens[i] == col or queens[i] == row:\n",
    "            return False\n",
    "    return True\n",
    "\n",
    "# Draw the state space tree\n",
    "draw_state_space_tree()\n"
   ]
  },
  {
   "cell_type": "code",
   "execution_count": null,
   "id": "097b1369",
   "metadata": {},
   "outputs": [],
   "source": []
  }
 ],
 "metadata": {
  "kernelspec": {
   "display_name": "Python 3",
   "language": "python",
   "name": "python3"
  },
  "language_info": {
   "codemirror_mode": {
    "name": "ipython",
    "version": 3
   },
   "file_extension": ".py",
   "mimetype": "text/x-python",
   "name": "python",
   "nbconvert_exporter": "python",
   "pygments_lexer": "ipython3",
   "version": "3.9.12"
  }
 },
 "nbformat": 4,
 "nbformat_minor": 5
}
